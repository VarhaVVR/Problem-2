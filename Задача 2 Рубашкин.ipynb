{
 "cells": [
  {
   "cell_type": "code",
   "execution_count": 8,
   "metadata": {},
   "outputs": [],
   "source": [
    "import pandas as pd\n",
    "from shapely.geometry import Point, Polygon\n",
    "#Сымитируем исходные данные из задачи\n",
    "a = [1,55.737564,37.345186,\n",
    "2,56.234564,37.234590,\n",
    "3,55.234578,36.295745]\n",
    "b= [1,55.747022,37.787073,0,\n",
    "1,55.751713,37.784328,1,\n",
    "1,55.753878,37.777638,2,\n",
    "1,55.751031,37.779351,3,\n",
    "2,55.803885,37.458311,0,\n",
    "2,55.808677,37.464054,1,\n",
    "2,55.809763,37.461314,2,\n",
    "2,55.810840,37.458654,3]\n",
    "#Создадим исходные датафреймы\n",
    "df_users = pd.DataFrame(columns=['user_id','loc_lat','loc_lon'])\n",
    "df_area = pd.DataFrame(columns = ['place_id','loc_lat','loc_lon','point_number']\n",
    "                      )\n",
    "df_users['user_id'] = a[0::3]\n",
    "df_users['loc_lat'] = a[1::3]\n",
    "df_users['loc_lon'] = a[2::3]\n",
    "      \n",
    "df_area['place_id'] = b[0::4]\n",
    "df_area['loc_lat'] = b[1::4]\n",
    "df_area['loc_lon'] = b[2::4]\n",
    "df_area['point_number']=b[3::4]\n",
    "\n",
    "#Итоговый датафрейм\n",
    "df_ans=pd.DataFrame(columns=('id','number_of_places'))\n",
    "df_ans['id']=df_users['user_id']"
   ]
  },
  {
   "cell_type": "code",
   "execution_count": 9,
   "metadata": {},
   "outputs": [
    {
     "name": "stdout",
     "output_type": "stream",
     "text": [
      "   id  number_of_places\n",
      "0   1                 0\n",
      "1   2                 0\n",
      "2   3                 0\n"
     ]
    }
   ],
   "source": [
    "#Создадим колонки с координатами точек для пользователей и вершин полигонов ресторанов\n",
    "df_area['point'] = list(df_area[['loc_lat','loc_lon']].itertuples(index = False))\n",
    "df_users['point'] = list(df_users[['loc_lat','loc_lon']].itertuples(index = False))\n",
    "#Пустой список, в котором будем хранить координаты многоугольника ресторана\n",
    "coor=[]\n",
    "#Создаем для каждого пользователя точку с её координатами\n",
    "for user in df_users['point']:\n",
    "    user_point = Point(user)\n",
    "    #Перебираем все уникальные места и рисуем многоугоьлник этого места\n",
    "    for pid in df_area['place_id'].unique():\n",
    "        for line in df_area[df_area['place_id']==pid]['point']:\n",
    "            coor.append(line)\n",
    "        poly = Polygon(coor)\n",
    "        #Подсчитываем для пользователя, во сколько многоугольников он попадает\n",
    "        if poly.contains(user_point) == True:\n",
    "            df_ans['number_of_places']=df_ans[df_ans['id']==pid]['number_of_places'].add(1)\n",
    "        coor=[]\n",
    "df_ans['number_of_places'].fillna(0,inplace = True)\n",
    "print(df_ans)"
   ]
  }
 ],
 "metadata": {
  "kernelspec": {
   "display_name": "Python 3",
   "language": "python",
   "name": "python3"
  },
  "language_info": {
   "codemirror_mode": {
    "name": "ipython",
    "version": 3
   },
   "file_extension": ".py",
   "mimetype": "text/x-python",
   "name": "python",
   "nbconvert_exporter": "python",
   "pygments_lexer": "ipython3",
   "version": "3.8.3"
  }
 },
 "nbformat": 4,
 "nbformat_minor": 4
}
